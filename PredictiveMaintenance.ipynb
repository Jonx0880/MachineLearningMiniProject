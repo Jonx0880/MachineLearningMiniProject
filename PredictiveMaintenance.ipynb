{
 "cells": [
  {
   "cell_type": "markdown",
   "metadata": {},
   "source": [
    "In this file, two different machine learning models will be developed and trained to predict machine failure based on different feautures.\n",
    "\n",
    "The dataset is taken from https://archive.ics.uci.edu/dataset/601/ai4i+2020+predictive+maintenance+dataset and will include following features:\n",
    "\n",
    "- Air temperature [K]\n",
    "\n",
    "- Process temperature [K]\n",
    "\n",
    "- Rotational speed [RPM]\n",
    "\n",
    "- Torque [Nm]\n",
    "\n",
    "- Tool wear [min]\n",
    "\n",
    "The target variable will be 0 (no failure) and 1 (failure) to indicate the prediction of machine failure."
   ]
  },
  {
   "cell_type": "markdown",
   "metadata": {},
   "source": [
    "The chosen machine learning models will be logistic regression and random forest.\n",
    "\n",
    "We start by importing the necessary libraries and loading the data. We will be using pandas for data handling, seaborn and matplotlib for visualizations and sklearn for the machine learning models"
   ]
  },
  {
   "cell_type": "code",
   "execution_count": null,
   "metadata": {},
   "outputs": [],
   "source": [
    "import pandas as pd\n",
    "import seaborn as sns\n",
    "import matplotlib.pyplot as plt\n",
    "from sklearn.model_selection import train_test_split\n",
    "from sklearn.linear_model import LogisticRegression  \n",
    "from sklearn.ensemble import RandomForestClassifier\n",
    "from sklearn.metrics import confusion_matrix, classification_report, accuracy_score\n",
    "url = \"https://archive.ics.uci.edu/ml/machine-learning-databases/00601/ai4i2020.csv\"\n",
    "data = pd.read_csv(url)"
   ]
  },
  {
   "cell_type": "markdown",
   "metadata": {},
   "source": [
    "Now we check the data for null values. If any values are null, we delete the entire row."
   ]
  },
  {
   "cell_type": "code",
   "execution_count": null,
   "metadata": {},
   "outputs": [],
   "source": [
    "print(\"Checking for null values...\")\n",
    "print(data.isnull().sum())  # Prints the count of null values in each column\n",
    "data.dropna(inplace=True)  # Drop rows with null values\n",
    "print(\"After removing null values, data shape:\", data.shape)"
   ]
  },
  {
   "cell_type": "markdown",
   "metadata": {},
   "source": [
    "We then plot a heatmap so get a visualization of the correlation between the 5 different features that will be used later in our models."
   ]
  },
  {
   "cell_type": "code",
   "execution_count": null,
   "metadata": {},
   "outputs": [],
   "source": [
    "features = ['Air temperature [K]', 'Process temperature [K]', 'Rotational speed [rpm]', \n",
    "            'Torque [Nm]', 'Tool wear [min]']\n",
    "\n",
    "numeric_data = data[features]\n",
    "\n",
    "plt.figure(figsize=(10, 6))\n",
    "sns.heatmap(numeric_data.corr(), annot=True, cmap=\"coolwarm\", fmt=\".2f\")\n",
    "plt.title(\"Feature Correlation Heatmap\")\n",
    "plt.show()"
   ]
  },
  {
   "cell_type": "markdown",
   "metadata": {},
   "source": [
    "We now split the data for training/test and choose the features we want, with a training size of 20% and test size of 80%"
   ]
  },
  {
   "cell_type": "code",
   "execution_count": null,
   "metadata": {},
   "outputs": [],
   "source": [
    "X = data[['Air temperature [K]', 'Process temperature [K]', 'Rotational speed [rpm]', \n",
    "          'Torque [Nm]', 'Tool wear [min]']]  # Features\n",
    "y = data['Machine failure']  # Target\n",
    "X_train, X_test, y_train, y_test = train_test_split(X, y, test_size=0.2, random_state=42)"
   ]
  },
  {
   "cell_type": "markdown",
   "metadata": {},
   "source": [
    "We can now use a model to train on the data. We train a model both for the logistic regression and random forest"
   ]
  },
  {
   "cell_type": "code",
   "execution_count": null,
   "metadata": {},
   "outputs": [],
   "source": [
    "modelLR = LogisticRegression(class_weight='balanced', random_state=42)\n",
    "modelLR.fit(X_train, y_train)\n",
    "\n",
    "modelRFC = RandomForestClassifier(class_weight='balanced', random_state=42)\n",
    "modelRFC.fit(X_train, y_train)"
   ]
  },
  {
   "cell_type": "markdown",
   "metadata": {},
   "source": [
    "We can now make a prediction on the test set for a target value for both models"
   ]
  },
  {
   "cell_type": "code",
   "execution_count": null,
   "metadata": {},
   "outputs": [],
   "source": [
    "y_predLR = modelLR.predict(X_test)\n",
    "y_predRFC = modelRFC.predict(X_test)"
   ]
  },
  {
   "cell_type": "markdown",
   "metadata": {},
   "source": [
    "Now we want to evaluate the performance of the models. We make a confusion matrix for both the models and visualize it"
   ]
  },
  {
   "cell_type": "code",
   "execution_count": null,
   "metadata": {},
   "outputs": [],
   "source": [
    "# Confusion Matrix for Logistic Regression\n",
    "conf_matrixLR = confusion_matrix(y_test, y_predLR)\n",
    "\n",
    "plt.figure(figsize=(6, 5))\n",
    "sns.heatmap(conf_matrixLR, annot=True, fmt='d', cmap='Blues', xticklabels=[\"No Failure\", \"Failure\"], yticklabels=[\"No Failure\", \"Failure\"])\n",
    "plt.xlabel(\"Predicted\")\n",
    "plt.ylabel(\"Actual\")\n",
    "plt.title(\"Logistic Regression Confusion Matrix\")\n",
    "plt.show()\n",
    "\n",
    "# Confusion Matrix for Random Forest Classifier\n",
    "conf_matrixRFC = confusion_matrix(y_test, y_predRFC)\n",
    "\n",
    "plt.figure(figsize=(6, 5))\n",
    "sns.heatmap(conf_matrixRFC, annot=True, fmt='d', cmap='Blues', xticklabels=[\"No Failure\", \"Failure\"], yticklabels=[\"No Failure\", \"Failure\"])\n",
    "plt.xlabel(\"Predicted\")\n",
    "plt.ylabel(\"Actual\")\n",
    "plt.title(\"Random Forest Confusion Matrix\")\n",
    "plt.show()\n"
   ]
  },
  {
   "cell_type": "markdown",
   "metadata": {},
   "source": [
    "We then make a classification report to see the different metrics for evaluating the models. "
   ]
  },
  {
   "cell_type": "code",
   "execution_count": null,
   "metadata": {},
   "outputs": [],
   "source": [
    "# Classification Report for Logistic Regression\n",
    "print(\"\\nClassification Report for Logistic Regression:\")\n",
    "print(classification_report(y_test, y_predLR))\n",
    "\n",
    "# Classification Report for Random Forest Classifier\n",
    "print(\"\\nClassification Report for Random Forest Classifier:\")\n",
    "print(classification_report(y_test, y_predRFC))"
   ]
  },
  {
   "cell_type": "code",
   "execution_count": null,
   "metadata": {},
   "outputs": [],
   "source": [
    "# Create a dictionary to store metrics for both models\n",
    "metrics = {\n",
    "    \"Model\": [\"Logistic Regression\", \"Random Forest Classifier\"],\n",
    "    \"Accuracy\": [accuracy_score(y_test, y_predLR), accuracy_score(y_test, y_predRFC)],\n",
    "    \"Precision (class 1)\": [classification_report(y_test, y_predLR, output_dict=True)[\"1\"][\"precision\"],\n",
    "                            classification_report(y_test, y_predRFC, output_dict=True)[\"1\"][\"precision\"]],\n",
    "    \"Recall (class 1)\": [classification_report(y_test, y_predLR, output_dict=True)[\"1\"][\"recall\"],\n",
    "                         classification_report(y_test, y_predRFC, output_dict=True)[\"1\"][\"recall\"]],\n",
    "    \"F1-Score (class 1)\": [classification_report(y_test, y_predLR, output_dict=True)[\"1\"][\"f1-score\"],\n",
    "                           classification_report(y_test, y_predRFC, output_dict=True)[\"1\"][\"f1-score\"]],\n",
    "}\n",
    "\n",
    "# Convert metrics dictionary to DataFrame for easy comparison\n",
    "metrics_df = pd.DataFrame(metrics)\n",
    "\n",
    "print(\"\\nModel Comparison:\")\n",
    "print(metrics_df)\n",
    "\n",
    "# Visualize the comparison in a bar plot\n",
    "ax = metrics_df.set_index('Model').plot(kind='bar', figsize=(10, 6), color=[\"#1f77b4\", \"#ff7f0e\", \"#2ca02c\", \"#d62728\"])\n",
    "\n",
    "# Add values on top of the bars\n",
    "for p in ax.patches:\n",
    "    ax.annotate(f'{p.get_height():.2f}', (p.get_x() + p.get_width() / 2., p.get_height()),\n",
    "                xytext=(0, 10), textcoords='offset points', ha='center', va='center')\n",
    "\n",
    "plt.title(\"Comparison of Logistic Regression and Random Forest Classifier\")\n",
    "plt.ylabel(\"Scores\")\n",
    "plt.xticks(rotation=0)\n",
    "plt.show()"
   ]
  }
 ],
 "metadata": {
  "kernelspec": {
   "display_name": "Python 3",
   "language": "python",
   "name": "python3"
  },
  "language_info": {
   "codemirror_mode": {
    "name": "ipython",
    "version": 3
   },
   "file_extension": ".py",
   "mimetype": "text/x-python",
   "name": "python",
   "nbconvert_exporter": "python",
   "pygments_lexer": "ipython3",
   "version": "3.12.5"
  }
 },
 "nbformat": 4,
 "nbformat_minor": 2
}
